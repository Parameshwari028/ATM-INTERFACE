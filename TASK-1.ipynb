{
 "cells": [
  {
   "cell_type": "code",
   "execution_count": 16,
   "metadata": {},
   "outputs": [
    {
     "name": "stdout",
     "output_type": "stream",
     "text": [
      "Please insert your CARD \n"
     ]
    },
    {
     "ename": "NameError",
     "evalue": "name 'balance' is not defined",
     "output_type": "error",
     "traceback": [
      "\u001b[1;31m---------------------------------------------------------------------------\u001b[0m",
      "\u001b[1;31mNameError\u001b[0m                                 Traceback (most recent call last)",
      "\u001b[1;32m~\\AppData\\Local\\Temp\\ipykernel_29348\\3052877869.py\u001b[0m in \u001b[0;36m<module>\u001b[1;34m\u001b[0m\n\u001b[0;32m      9\u001b[0m \u001b[0mpin\u001b[0m\u001b[1;33m=\u001b[0m\u001b[0mint\u001b[0m\u001b[1;33m(\u001b[0m\u001b[0minput\u001b[0m\u001b[1;33m(\u001b[0m\u001b[1;34m\"enter your atm pin \"\u001b[0m\u001b[1;33m)\u001b[0m\u001b[1;33m)\u001b[0m\u001b[1;33m\u001b[0m\u001b[0m\n\u001b[0;32m     10\u001b[0m \u001b[1;33m\u001b[0m\u001b[0m\n\u001b[1;32m---> 11\u001b[1;33m \u001b[0mbalance\u001b[0m \u001b[1;33m==\u001b[0m \u001b[1;36m5000\u001b[0m\u001b[1;33m\u001b[0m\u001b[0m\n\u001b[0m\u001b[0;32m     12\u001b[0m \u001b[1;33m\u001b[0m\u001b[0m\n\u001b[0;32m     13\u001b[0m \u001b[1;33m\u001b[0m\u001b[0m\n",
      "\u001b[1;31mNameError\u001b[0m: name 'balance' is not defined"
     ]
    }
   ],
   "source": [
    "import time\n",
    "\n",
    "print(\"Please insert your CARD \")\n",
    "\n",
    "time.sleep(5)\n",
    "\n",
    "password=1234\n",
    "\n",
    "pin=int(input(\"enter your atm pin \"))\n",
    "\n",
    "balance == 5000\n",
    "\n",
    "\n",
    "if pin == password:\n",
    "    while True:\n",
    "   \n",
    "        print(\"\"\"\n",
    "            1 == balance\n",
    "            2 == withdraw balance\n",
    "            3 == deposit balance\n",
    "            4 == exit\n",
    "            \"\"\"\n",
    "            )\n",
    "\n",
    "        try:\n",
    "            option-int(input(\"Please enter your choice \"))\n",
    "        except:\n",
    "            print(\"Please enter valid option\")\n",
    "\n",
    "        if option==1:\n",
    "            print(f\"your current balance is {balance}\")\n",
    "\n",
    "        if option==2:\n",
    "\n",
    "            withdraw_amount=int(input(\"Please enter withdraw_amount \"))\n",
    "\n",
    "            balnace=balance=withdraw_amount\n",
    "\n",
    "            print(f\"{withdraw_amount} is debited from your account\")\n",
    "\n",
    "            print(f\"your updated balance is {balance}\")\n",
    "\n",
    "        if option == 3:\n",
    "\n",
    "            deposit_amount = int(input(\"Please enter deposit_amount\"))\n",
    "\n",
    "            balance = balance + deposit_amount\n",
    "\n",
    "            print(f\"{deposit_amount} is credited to your account\")\n",
    "\n",
    "            print(f\"your updated balance is {balance}\")\n",
    "\n",
    "        if option == 4:\n",
    "\n",
    "            break\n",
    "else:\n",
    "    print(\"wrong pin please try again\")\n",
    "\n",
    "\n",
    "\n",
    "\n",
    "\n",
    "\n",
    "\n",
    "\n",
    "\n",
    "\n",
    "\n",
    "\n"
   ]
  }
 ],
 "metadata": {
  "kernelspec": {
   "display_name": "Python 3",
   "language": "python",
   "name": "python3"
  },
  "language_info": {
   "codemirror_mode": {
    "name": "ipython",
    "version": 3
   },
   "file_extension": ".py",
   "mimetype": "text/x-python",
   "name": "python",
   "nbconvert_exporter": "python",
   "pygments_lexer": "ipython3",
   "version": "3.7.0"
  }
 },
 "nbformat": 4,
 "nbformat_minor": 2
}
